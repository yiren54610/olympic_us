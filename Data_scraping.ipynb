{
 "cells": [
  {
   "cell_type": "code",
   "execution_count": 153,
   "id": "8e640430-fb74-4a38-a78e-82675df7ba6b",
   "metadata": {},
   "outputs": [],
   "source": [
    "import requests"
   ]
  },
  {
   "cell_type": "code",
   "execution_count": 165,
   "id": "d699da29-7d53-4c67-a680-faf72b9835c7",
   "metadata": {},
   "outputs": [],
   "source": [
    "base = 'https://www.olympedia.org/countries/USA/editions/'"
   ]
  },
  {
   "cell_type": "code",
   "execution_count": 155,
   "id": "539f5323-ab63-4f98-ac3a-10aa07fbd099",
   "metadata": {},
   "outputs": [],
   "source": [
    "page = [61,59,54,53,26,25,24,23,22,21]"
   ]
  },
  {
   "cell_type": "code",
   "execution_count": 166,
   "id": "9b389450-4a96-426a-a9d2-e309afa860e2",
   "metadata": {},
   "outputs": [
    {
     "name": "stdout",
     "output_type": "stream",
     "text": [
      "https://www.olympedia.org/countries/USA/editions/61\n",
      "https://www.olympedia.org/countries/USA/editions/59\n",
      "https://www.olympedia.org/countries/USA/editions/54\n",
      "https://www.olympedia.org/countries/USA/editions/53\n",
      "https://www.olympedia.org/countries/USA/editions/26\n",
      "https://www.olympedia.org/countries/USA/editions/25\n",
      "https://www.olympedia.org/countries/USA/editions/24\n",
      "https://www.olympedia.org/countries/USA/editions/23\n",
      "https://www.olympedia.org/countries/USA/editions/22\n",
      "https://www.olympedia.org/countries/USA/editions/21\n"
     ]
    }
   ],
   "source": [
    "for n in page:\n",
    "    print(base + str(n))"
   ]
  },
  {
   "cell_type": "code",
   "execution_count": 156,
   "id": "c63d99a3-99f7-4c5a-a521-9cdf31cde127",
   "metadata": {},
   "outputs": [],
   "source": [
    "html = \"https://www.olympedia.org/countries/USA/editions/61\"\n",
    "raw_html = requests.get(html).content\n",
    "from bs4 import BeautifulSoup\n",
    "soup_doc = BeautifulSoup(raw_html, \"html.parser\")\n",
    "# soup_doc.prettify()\n",
    "\n",
    "data = soup_doc.find_all('td')\n",
    "result = []\n",
    "current_list = []\n",
    "\n",
    "for item in data:\n",
    "    if item.find('h2'):\n",
    "        if current_list:\n",
    "            result.append(current_list)\n",
    "        current_list = [item]\n",
    "    else:\n",
    "        current_list.append(item)\n",
    "\n",
    "\n",
    "if current_list:\n",
    "    result.append(current_list)\n",
    "\n",
    "r = []\n",
    "for sport in result:\n",
    "    for s in sport:\n",
    "        if s.find('h2') or s.find('a') or s.find('span'):\n",
    "            r.append(s)"
   ]
  },
  {
   "cell_type": "markdown",
   "id": "4e453986-dc0c-42d6-abf4-c8e9cb1ba18e",
   "metadata": {},
   "source": [
    "# AI toools"
   ]
  },
  {
   "cell_type": "markdown",
   "id": "3ef53b01-c5ad-4edf-bd4a-6ed40f8d9647",
   "metadata": {},
   "source": [
    "I used ChatGPT to generate next step which helped me save a lot of time.\n",
    "https://chatgpt.com/share/67a421c2-fd4c-8001-ae1a-ca1b88a1316e"
   ]
  },
  {
   "cell_type": "markdown",
   "id": "90da2a54-3760-4997-a683-53e7c23360cb",
   "metadata": {},
   "source": [
    "I copied one section of my r and give this prompt to ChatGPT: \n",
    "\n",
    "In this context:  \n",
    "\n",
    "- `h2` represents the sports category.  \n",
    "- `href=\"results\"` corresponds to gender, usually appearing in the format `\"xxx,[gender]\"`.  \n",
    "- If `results` is not **individual**, then all participants should be placed in a single cell.  \n",
    "- `href=\"athletes\"` corresponds to the athlete's name.  \n",
    "- If a `<span>` appears after `athlete`, it indicates a **medal**; if no `<span>` appears, it means **no medal**."
   ]
  },
  {
   "cell_type": "code",
   "execution_count": 157,
   "id": "b40880e5-81bb-452e-b458-bda8e16b7f00",
   "metadata": {},
   "outputs": [],
   "source": [
    "rows = []\n",
    "current_sport = None\n",
    "\n",
    "i = 0\n",
    "while i < len(r):\n",
    "    td = r[i]\n",
    "    \n",
    "    if td.find('h2'):\n",
    "        current_sport = td.get_text(strip=True)\n",
    "        i += 1\n",
    "        continue\n",
    "    \n",
    "    # event and gender\n",
    "    if td.find('a') and 'results' in td.a['href']:\n",
    "        event_gender = td.get_text(strip=True)\n",
    "        event, gender = event_gender.rsplit(',', 1)\n",
    "        i += 1\n",
    "        \n",
    "        athletes = []\n",
    "        medals = []\n",
    "        \n",
    "        # name\n",
    "        while i < len(r) and (r[i].find('a') and 'athletes' in r[i].a['href'] or r[i].find('span')):\n",
    "            if r[i].find('a'):\n",
    "                athlete_name = r[i].get_text(strip=True)\n",
    "                medal = r[i+1].get_text(strip=True) if i+1 < len(r) and r[i+1].find('span') else 'None'\n",
    "                athletes.append((athlete_name, medal))\n",
    "            i += 1\n",
    "        \n",
    "        # team as a group\n",
    "        if \"Team\" in event:\n",
    "            athlete_names = ', '.join([a[0] for a in athletes])\n",
    "            medals_str = ', '.join(set(a[1] for a in athletes if a[1] != 'None')) or 'None'\n",
    "            rows.append([current_sport, event.strip(), gender.strip(), athlete_names, medals_str])\n",
    "        else:\n",
    "            # individual\n",
    "            for athlete_name, medal in athletes:\n",
    "                rows.append([current_sport, event.strip(), gender.strip(), athlete_name, medal])\n",
    "    else:\n",
    "        i += 1\n",
    "\n",
    "\n",
    "df = pd.DataFrame(rows, columns=['Sport', 'Event', 'Gender', 'Athlete', 'Medal'])"
   ]
  },
  {
   "cell_type": "code",
   "execution_count": 161,
   "id": "04432649-b01b-42e3-9821-ae96228102e8",
   "metadata": {},
   "outputs": [],
   "source": [
    "# add a new column that is the year\n",
    "y = soup_doc.find('h1').text\n",
    "import re\n",
    "year = ''.join(re.findall(r'\\d+', y))\n",
    "df['Year']=[year for i in range(len(df))]\n",
    "df.to_csv(f\"{year}.csv\",index=False)"
   ]
  },
  {
   "cell_type": "code",
   "execution_count": 159,
   "id": "d509486f-5a0d-4e8e-806d-7b41ad0233ab",
   "metadata": {},
   "outputs": [
    {
     "data": {
      "text/html": [
       "<div>\n",
       "<style scoped>\n",
       "    .dataframe tbody tr th:only-of-type {\n",
       "        vertical-align: middle;\n",
       "    }\n",
       "\n",
       "    .dataframe tbody tr th {\n",
       "        vertical-align: top;\n",
       "    }\n",
       "\n",
       "    .dataframe thead th {\n",
       "        text-align: right;\n",
       "    }\n",
       "</style>\n",
       "<table border=\"1\" class=\"dataframe\">\n",
       "  <thead>\n",
       "    <tr style=\"text-align: right;\">\n",
       "      <th></th>\n",
       "      <th>Sport</th>\n",
       "      <th>Event</th>\n",
       "      <th>Gender</th>\n",
       "      <th>Athlete</th>\n",
       "      <th>Medal</th>\n",
       "      <th>Year</th>\n",
       "    </tr>\n",
       "  </thead>\n",
       "  <tbody>\n",
       "    <tr>\n",
       "      <th>0</th>\n",
       "      <td>3x3 Basketball</td>\n",
       "      <td>3x3 Basketball</td>\n",
       "      <td>Women</td>\n",
       "      <td>Kelsey Plum•Jackie Young•Stefanie Dolson•Allis...</td>\n",
       "      <td>None</td>\n",
       "      <td>2020</td>\n",
       "    </tr>\n",
       "    <tr>\n",
       "      <th>1</th>\n",
       "      <td>Archery</td>\n",
       "      <td>Individual</td>\n",
       "      <td>Men</td>\n",
       "      <td>Brady Ellison</td>\n",
       "      <td>None</td>\n",
       "      <td>2020</td>\n",
       "    </tr>\n",
       "    <tr>\n",
       "      <th>2</th>\n",
       "      <td>Archery</td>\n",
       "      <td>Individual</td>\n",
       "      <td>Men</td>\n",
       "      <td>Jacob Wukie</td>\n",
       "      <td>None</td>\n",
       "      <td>2020</td>\n",
       "    </tr>\n",
       "    <tr>\n",
       "      <th>3</th>\n",
       "      <td>Archery</td>\n",
       "      <td>Individual</td>\n",
       "      <td>Men</td>\n",
       "      <td>Jack Williams</td>\n",
       "      <td>None</td>\n",
       "      <td>2020</td>\n",
       "    </tr>\n",
       "    <tr>\n",
       "      <th>4</th>\n",
       "      <td>Archery</td>\n",
       "      <td>Team</td>\n",
       "      <td>Men</td>\n",
       "      <td>Brady Ellison•Jack Williams•Jacob Wukie</td>\n",
       "      <td>None</td>\n",
       "      <td>2020</td>\n",
       "    </tr>\n",
       "  </tbody>\n",
       "</table>\n",
       "</div>"
      ],
      "text/plain": [
       "            Sport           Event Gender  \\\n",
       "0  3x3 Basketball  3x3 Basketball  Women   \n",
       "1         Archery      Individual    Men   \n",
       "2         Archery      Individual    Men   \n",
       "3         Archery      Individual    Men   \n",
       "4         Archery            Team    Men   \n",
       "\n",
       "                                             Athlete Medal  Year  \n",
       "0  Kelsey Plum•Jackie Young•Stefanie Dolson•Allis...  None  2020  \n",
       "1                                      Brady Ellison  None  2020  \n",
       "2                                        Jacob Wukie  None  2020  \n",
       "3                                      Jack Williams  None  2020  \n",
       "4            Brady Ellison•Jack Williams•Jacob Wukie  None  2020  "
      ]
     },
     "execution_count": 159,
     "metadata": {},
     "output_type": "execute_result"
    }
   ],
   "source": [
    "df.head()"
   ]
  },
  {
   "cell_type": "markdown",
   "id": "a95a0708-5319-4780-aa4e-a2b8ff9d18e7",
   "metadata": {},
   "source": [
    "loop through 1984 - 2020"
   ]
  },
  {
   "cell_type": "code",
   "execution_count": 187,
   "id": "2a3dbf62-bbbb-4c5f-983b-7e8fe2c5bc38",
   "metadata": {},
   "outputs": [],
   "source": [
    "df_dict={}\n",
    "for n in page:\n",
    "    html = base + str(n)\n",
    "    raw_html = requests.get(html).content\n",
    "    from bs4 import BeautifulSoup\n",
    "    soup_doc = BeautifulSoup(raw_html, \"html.parser\")\n",
    "    # soup_doc.prettify()\n",
    "    \n",
    "    data = soup_doc.find_all('td')\n",
    "    \n",
    "    # add a new column that is the year\n",
    "    y = soup_doc.find('h1').text\n",
    "    import re\n",
    "    year = ''.join(re.findall(r'\\d+', y))\n",
    "\n",
    "    # find all tds\n",
    "    result = []\n",
    "    current_list = []\n",
    "    \n",
    "    for item in data:\n",
    "        if item.find('h2'):\n",
    "            if current_list:\n",
    "                result.append(current_list)\n",
    "            current_list = [item]\n",
    "        else:\n",
    "            current_list.append(item)\n",
    "    \n",
    "    \n",
    "    if current_list:\n",
    "        result.append(current_list)\n",
    "    \n",
    "    r = []\n",
    "    for sport in result:\n",
    "        for s in sport:\n",
    "            if s.find('h2') or s.find('a') or s.find('span'):\n",
    "                r.append(s)\n",
    "\n",
    "    rows = []\n",
    "    current_sport = None\n",
    "    \n",
    "    i = 0\n",
    "    while i < len(r):\n",
    "        td = r[i]\n",
    "        \n",
    "        if td.find('h2'):\n",
    "            current_sport = td.get_text(strip=True)\n",
    "            i += 1\n",
    "            continue\n",
    "        \n",
    "        # event and gender\n",
    "        if td.find('a') and 'results' in td.a['href']:\n",
    "            event_gender = td.get_text(strip=True)\n",
    "            event, gender = event_gender.rsplit(',', 1)\n",
    "            i += 1\n",
    "            \n",
    "            athletes = []\n",
    "            medals = []\n",
    "            \n",
    "            # name\n",
    "            while i < len(r) and (r[i].find('a') and 'athletes' in r[i].a['href'] or r[i].find('span')):\n",
    "                if r[i].find('a'):\n",
    "                    athlete_name = r[i].get_text(strip=True)\n",
    "                    medal = r[i+1].get_text(strip=True) if i+1 < len(r) and r[i+1].find('span') else 'None'\n",
    "                    athletes.append((athlete_name, medal))\n",
    "                i += 1\n",
    "            \n",
    "            # team as a group\n",
    "            if \"Team\" in event:\n",
    "                athlete_names = ', '.join([a[0] for a in athletes])\n",
    "                medals_str = ', '.join(set(a[1] for a in athletes if a[1] != 'None')) or 'None'\n",
    "                rows.append([current_sport, event.strip(), gender.strip(), athlete_names, medals_str])\n",
    "            else:\n",
    "                # individual\n",
    "                for athlete_name, medal in athletes:\n",
    "                    rows.append([current_sport, event.strip(), gender.strip(), athlete_name, medal])\n",
    "        else:\n",
    "            i += 1\n",
    "\n",
    "\n",
    "    df_dict[f'df{year}']= pd.DataFrame(rows, columns=['Sport', 'Event', 'Gender', 'Athlete', 'Medal'])\n",
    "    df_dict[f'df{year}']['Year']=[year for i in range(len(df_dict[f'df{year}']))]\n"
   ]
  },
  {
   "cell_type": "code",
   "execution_count": 188,
   "id": "71cee43d-d673-422d-880a-b80feb4dcb7f",
   "metadata": {},
   "outputs": [],
   "source": [
    "frames = pd.concat(df_dict.values())"
   ]
  },
  {
   "cell_type": "code",
   "execution_count": 189,
   "id": "e702f845-22d7-48f5-8d3c-22adeba5c074",
   "metadata": {},
   "outputs": [],
   "source": [
    "frames.to_csv('total.csv',index = False)"
   ]
  },
  {
   "cell_type": "code",
   "execution_count": 190,
   "id": "17063a07-1e70-4275-97ed-a3acd7e1d134",
   "metadata": {},
   "outputs": [
    {
     "data": {
      "text/html": [
       "<div>\n",
       "<style scoped>\n",
       "    .dataframe tbody tr th:only-of-type {\n",
       "        vertical-align: middle;\n",
       "    }\n",
       "\n",
       "    .dataframe tbody tr th {\n",
       "        vertical-align: top;\n",
       "    }\n",
       "\n",
       "    .dataframe thead th {\n",
       "        text-align: right;\n",
       "    }\n",
       "</style>\n",
       "<table border=\"1\" class=\"dataframe\">\n",
       "  <thead>\n",
       "    <tr style=\"text-align: right;\">\n",
       "      <th></th>\n",
       "      <th>Sport</th>\n",
       "      <th>Event</th>\n",
       "      <th>Gender</th>\n",
       "      <th>Athlete</th>\n",
       "      <th>Medal</th>\n",
       "      <th>Year</th>\n",
       "    </tr>\n",
       "  </thead>\n",
       "  <tbody>\n",
       "    <tr>\n",
       "      <th>count</th>\n",
       "      <td>4746</td>\n",
       "      <td>4746</td>\n",
       "      <td>4746</td>\n",
       "      <td>4746</td>\n",
       "      <td>4746</td>\n",
       "      <td>4746</td>\n",
       "    </tr>\n",
       "    <tr>\n",
       "      <th>unique</th>\n",
       "      <td>52</td>\n",
       "      <td>208</td>\n",
       "      <td>4</td>\n",
       "      <td>2995</td>\n",
       "      <td>4</td>\n",
       "      <td>10</td>\n",
       "    </tr>\n",
       "    <tr>\n",
       "      <th>top</th>\n",
       "      <td>Athletics</td>\n",
       "      <td>Individual</td>\n",
       "      <td>Men</td>\n",
       "      <td>Blaine Wilson</td>\n",
       "      <td>None</td>\n",
       "      <td>1996</td>\n",
       "    </tr>\n",
       "    <tr>\n",
       "      <th>freq</th>\n",
       "      <td>1227</td>\n",
       "      <td>241</td>\n",
       "      <td>2563</td>\n",
       "      <td>20</td>\n",
       "      <td>3906</td>\n",
       "      <td>507</td>\n",
       "    </tr>\n",
       "  </tbody>\n",
       "</table>\n",
       "</div>"
      ],
      "text/plain": [
       "            Sport       Event Gender        Athlete Medal  Year\n",
       "count        4746        4746   4746           4746  4746  4746\n",
       "unique         52         208      4           2995     4    10\n",
       "top     Athletics  Individual    Men  Blaine Wilson  None  1996\n",
       "freq         1227         241   2563             20  3906   507"
      ]
     },
     "execution_count": 190,
     "metadata": {},
     "output_type": "execute_result"
    }
   ],
   "source": [
    "frames.describe()"
   ]
  },
  {
   "cell_type": "markdown",
   "id": "51c6bc15-2ee4-42b2-9ca3-33688b322ece",
   "metadata": {},
   "source": [
    "# I mannually added the Paris 2024 results (with medals only )"
   ]
  },
  {
   "cell_type": "code",
   "execution_count": 193,
   "id": "ce8a16a8-360a-44fd-808c-9c4a74f919ce",
   "metadata": {},
   "outputs": [],
   "source": [
    "paris = pd.read_csv('2024.csv')"
   ]
  },
  {
   "cell_type": "code",
   "execution_count": 195,
   "id": "dd435de5-5997-451a-8813-6c88a75e6328",
   "metadata": {},
   "outputs": [],
   "source": [
    "new = pd.concat([frames,paris])"
   ]
  },
  {
   "cell_type": "code",
   "execution_count": 196,
   "id": "cab80b61-a7c5-4db5-bfb7-365a57e593c4",
   "metadata": {},
   "outputs": [
    {
     "data": {
      "text/html": [
       "<div>\n",
       "<style scoped>\n",
       "    .dataframe tbody tr th:only-of-type {\n",
       "        vertical-align: middle;\n",
       "    }\n",
       "\n",
       "    .dataframe tbody tr th {\n",
       "        vertical-align: top;\n",
       "    }\n",
       "\n",
       "    .dataframe thead th {\n",
       "        text-align: right;\n",
       "    }\n",
       "</style>\n",
       "<table border=\"1\" class=\"dataframe\">\n",
       "  <thead>\n",
       "    <tr style=\"text-align: right;\">\n",
       "      <th></th>\n",
       "      <th>Sport</th>\n",
       "      <th>Event</th>\n",
       "      <th>Gender</th>\n",
       "      <th>Athlete</th>\n",
       "      <th>Medal</th>\n",
       "      <th>Year</th>\n",
       "    </tr>\n",
       "  </thead>\n",
       "  <tbody>\n",
       "    <tr>\n",
       "      <th>count</th>\n",
       "      <td>4976</td>\n",
       "      <td>4976</td>\n",
       "      <td>4976</td>\n",
       "      <td>4976</td>\n",
       "      <td>4976</td>\n",
       "      <td>4976</td>\n",
       "    </tr>\n",
       "    <tr>\n",
       "      <th>unique</th>\n",
       "      <td>61</td>\n",
       "      <td>308</td>\n",
       "      <td>4</td>\n",
       "      <td>3099</td>\n",
       "      <td>5</td>\n",
       "      <td>12</td>\n",
       "    </tr>\n",
       "    <tr>\n",
       "      <th>top</th>\n",
       "      <td>Athletics</td>\n",
       "      <td>Individual</td>\n",
       "      <td>Men</td>\n",
       "      <td>Blaine Wilson</td>\n",
       "      <td>None</td>\n",
       "      <td>1996</td>\n",
       "    </tr>\n",
       "    <tr>\n",
       "      <th>freq</th>\n",
       "      <td>1277</td>\n",
       "      <td>241</td>\n",
       "      <td>2654</td>\n",
       "      <td>20</td>\n",
       "      <td>3906</td>\n",
       "      <td>507</td>\n",
       "    </tr>\n",
       "  </tbody>\n",
       "</table>\n",
       "</div>"
      ],
      "text/plain": [
       "            Sport       Event Gender        Athlete Medal  Year\n",
       "count        4976        4976   4976           4976  4976  4976\n",
       "unique         61         308      4           3099     5    12\n",
       "top     Athletics  Individual    Men  Blaine Wilson  None  1996\n",
       "freq         1277         241   2654             20  3906   507"
      ]
     },
     "execution_count": 196,
     "metadata": {},
     "output_type": "execute_result"
    }
   ],
   "source": [
    "new.describe()"
   ]
  },
  {
   "cell_type": "code",
   "execution_count": 197,
   "id": "7a107866-6cae-4370-b919-50306e6f9490",
   "metadata": {},
   "outputs": [],
   "source": [
    "new.to_csv('Final.csv',index = False)"
   ]
  },
  {
   "cell_type": "code",
   "execution_count": null,
   "id": "53e518af-8406-4efc-adb9-e0078148e023",
   "metadata": {},
   "outputs": [],
   "source": []
  }
 ],
 "metadata": {
  "kernelspec": {
   "display_name": "Python 3 (ipykernel)",
   "language": "python",
   "name": "python3"
  },
  "language_info": {
   "codemirror_mode": {
    "name": "ipython",
    "version": 3
   },
   "file_extension": ".py",
   "mimetype": "text/x-python",
   "name": "python",
   "nbconvert_exporter": "python",
   "pygments_lexer": "ipython3",
   "version": "3.12.7"
  }
 },
 "nbformat": 4,
 "nbformat_minor": 5
}
